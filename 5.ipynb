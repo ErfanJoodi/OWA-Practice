{
 "cells": [
  {
   "cell_type": "markdown",
   "metadata": {},
   "source": [
    "# Hi :)"
   ]
  },
  {
   "cell_type": "markdown",
   "metadata": {},
   "source": [
    "----"
   ]
  },
  {
   "cell_type": "markdown",
   "metadata": {},
   "source": [
    "# Import libraries"
   ]
  },
  {
   "cell_type": "code",
   "execution_count": 1,
   "metadata": {},
   "outputs": [],
   "source": [
    "import pandas as pd\n",
    "import numpy as np"
   ]
  },
  {
   "cell_type": "markdown",
   "metadata": {},
   "source": [
    "# Dataset"
   ]
  },
  {
   "cell_type": "markdown",
   "metadata": {},
   "source": [
    "Reading the dataset"
   ]
  },
  {
   "cell_type": "code",
   "execution_count": 2,
   "metadata": {},
   "outputs": [
    {
     "data": {
      "text/html": [
       "<div>\n",
       "<style scoped>\n",
       "    .dataframe tbody tr th:only-of-type {\n",
       "        vertical-align: middle;\n",
       "    }\n",
       "\n",
       "    .dataframe tbody tr th {\n",
       "        vertical-align: top;\n",
       "    }\n",
       "\n",
       "    .dataframe thead th {\n",
       "        text-align: right;\n",
       "    }\n",
       "</style>\n",
       "<table border=\"1\" class=\"dataframe\">\n",
       "  <thead>\n",
       "    <tr style=\"text-align: right;\">\n",
       "      <th></th>\n",
       "      <th>Sensor 1</th>\n",
       "      <th>Sensor 2</th>\n",
       "      <th>Sensor 3</th>\n",
       "      <th>Real data</th>\n",
       "    </tr>\n",
       "  </thead>\n",
       "  <tbody>\n",
       "    <tr>\n",
       "      <th>0</th>\n",
       "      <td>1.290892</td>\n",
       "      <td>1.233738</td>\n",
       "      <td>0.804856</td>\n",
       "      <td>1.20000</td>\n",
       "    </tr>\n",
       "    <tr>\n",
       "      <th>1</th>\n",
       "      <td>1.258611</td>\n",
       "      <td>0.693333</td>\n",
       "      <td>1.345625</td>\n",
       "      <td>1.08000</td>\n",
       "    </tr>\n",
       "    <tr>\n",
       "      <th>2</th>\n",
       "      <td>0.885958</td>\n",
       "      <td>0.924730</td>\n",
       "      <td>0.924650</td>\n",
       "      <td>0.97200</td>\n",
       "    </tr>\n",
       "    <tr>\n",
       "      <th>3</th>\n",
       "      <td>1.289685</td>\n",
       "      <td>1.244266</td>\n",
       "      <td>0.971379</td>\n",
       "      <td>0.87480</td>\n",
       "    </tr>\n",
       "    <tr>\n",
       "      <th>4</th>\n",
       "      <td>0.862174</td>\n",
       "      <td>0.822418</td>\n",
       "      <td>0.761150</td>\n",
       "      <td>0.78732</td>\n",
       "    </tr>\n",
       "  </tbody>\n",
       "</table>\n",
       "</div>"
      ],
      "text/plain": [
       "   Sensor 1  Sensor 2  Sensor 3  Real data\n",
       "0  1.290892  1.233738  0.804856    1.20000\n",
       "1  1.258611  0.693333  1.345625    1.08000\n",
       "2  0.885958  0.924730  0.924650    0.97200\n",
       "3  1.289685  1.244266  0.971379    0.87480\n",
       "4  0.862174  0.822418  0.761150    0.78732"
      ]
     },
     "execution_count": 2,
     "metadata": {},
     "output_type": "execute_result"
    }
   ],
   "source": [
    "dataset= pd.read_excel('Dataset/Data.xlsx')\n",
    "dataset.head()"
   ]
  },
  {
   "cell_type": "markdown",
   "metadata": {},
   "source": [
    "Checking the dataset"
   ]
  },
  {
   "cell_type": "code",
   "execution_count": 3,
   "metadata": {},
   "outputs": [
    {
     "data": {
      "text/plain": [
       "Sensor 1     0\n",
       "Sensor 2     0\n",
       "Sensor 3     0\n",
       "Real data    0\n",
       "dtype: int64"
      ]
     },
     "execution_count": 3,
     "metadata": {},
     "output_type": "execute_result"
    }
   ],
   "source": [
    "# checking the dataset null values\n",
    "dataset.isna().sum()"
   ]
  },
  {
   "cell_type": "code",
   "execution_count": 4,
   "metadata": {},
   "outputs": [
    {
     "name": "stdout",
     "output_type": "stream",
     "text": [
      "<class 'pandas.core.frame.DataFrame'>\n",
      "RangeIndex: 1200 entries, 0 to 1199\n",
      "Data columns (total 4 columns):\n",
      " #   Column     Non-Null Count  Dtype  \n",
      "---  ------     --------------  -----  \n",
      " 0   Sensor 1   1200 non-null   float64\n",
      " 1   Sensor 2   1200 non-null   float64\n",
      " 2   Sensor 3   1200 non-null   float64\n",
      " 3   Real data  1200 non-null   float64\n",
      "dtypes: float64(4)\n",
      "memory usage: 37.6 KB\n"
     ]
    }
   ],
   "source": [
    "# checking the dataset columns data type\n",
    "dataset.info()"
   ]
  },
  {
   "cell_type": "code",
   "execution_count": 5,
   "metadata": {},
   "outputs": [
    {
     "data": {
      "text/html": [
       "<div>\n",
       "<style scoped>\n",
       "    .dataframe tbody tr th:only-of-type {\n",
       "        vertical-align: middle;\n",
       "    }\n",
       "\n",
       "    .dataframe tbody tr th {\n",
       "        vertical-align: top;\n",
       "    }\n",
       "\n",
       "    .dataframe thead th {\n",
       "        text-align: right;\n",
       "    }\n",
       "</style>\n",
       "<table border=\"1\" class=\"dataframe\">\n",
       "  <thead>\n",
       "    <tr style=\"text-align: right;\">\n",
       "      <th></th>\n",
       "      <th>Sensor 1</th>\n",
       "      <th>Sensor 2</th>\n",
       "      <th>Sensor 3</th>\n",
       "      <th>Real data</th>\n",
       "    </tr>\n",
       "  </thead>\n",
       "  <tbody>\n",
       "    <tr>\n",
       "      <th>count</th>\n",
       "      <td>1200.000000</td>\n",
       "      <td>1200.000000</td>\n",
       "      <td>1200.000000</td>\n",
       "      <td>1200.000000</td>\n",
       "    </tr>\n",
       "    <tr>\n",
       "      <th>mean</th>\n",
       "      <td>0.916810</td>\n",
       "      <td>0.915656</td>\n",
       "      <td>0.907631</td>\n",
       "      <td>0.915172</td>\n",
       "    </tr>\n",
       "    <tr>\n",
       "      <th>std</th>\n",
       "      <td>0.365527</td>\n",
       "      <td>0.365502</td>\n",
       "      <td>0.374501</td>\n",
       "      <td>0.244214</td>\n",
       "    </tr>\n",
       "    <tr>\n",
       "      <th>min</th>\n",
       "      <td>-0.477581</td>\n",
       "      <td>-0.389440</td>\n",
       "      <td>-0.579880</td>\n",
       "      <td>0.200126</td>\n",
       "    </tr>\n",
       "    <tr>\n",
       "      <th>25%</th>\n",
       "      <td>0.674057</td>\n",
       "      <td>0.684622</td>\n",
       "      <td>0.671952</td>\n",
       "      <td>0.739000</td>\n",
       "    </tr>\n",
       "    <tr>\n",
       "      <th>50%</th>\n",
       "      <td>0.937841</td>\n",
       "      <td>0.931848</td>\n",
       "      <td>0.935391</td>\n",
       "      <td>0.956681</td>\n",
       "    </tr>\n",
       "    <tr>\n",
       "      <th>75%</th>\n",
       "      <td>1.162877</td>\n",
       "      <td>1.157810</td>\n",
       "      <td>1.155175</td>\n",
       "      <td>1.116139</td>\n",
       "    </tr>\n",
       "    <tr>\n",
       "      <th>max</th>\n",
       "      <td>2.246458</td>\n",
       "      <td>2.609893</td>\n",
       "      <td>2.187203</td>\n",
       "      <td>1.341588</td>\n",
       "    </tr>\n",
       "  </tbody>\n",
       "</table>\n",
       "</div>"
      ],
      "text/plain": [
       "          Sensor 1     Sensor 2     Sensor 3    Real data\n",
       "count  1200.000000  1200.000000  1200.000000  1200.000000\n",
       "mean      0.916810     0.915656     0.907631     0.915172\n",
       "std       0.365527     0.365502     0.374501     0.244214\n",
       "min      -0.477581    -0.389440    -0.579880     0.200126\n",
       "25%       0.674057     0.684622     0.671952     0.739000\n",
       "50%       0.937841     0.931848     0.935391     0.956681\n",
       "75%       1.162877     1.157810     1.155175     1.116139\n",
       "max       2.246458     2.609893     2.187203     1.341588"
      ]
     },
     "execution_count": 5,
     "metadata": {},
     "output_type": "execute_result"
    }
   ],
   "source": [
    "# checking the dataset statistical informations\n",
    "dataset.describe()"
   ]
  },
  {
   "cell_type": "markdown",
   "metadata": {},
   "source": [
    "Lets make a copy of original dataset so we can work on it"
   ]
  },
  {
   "cell_type": "code",
   "execution_count": 6,
   "metadata": {},
   "outputs": [],
   "source": [
    "df= dataset.copy()"
   ]
  },
  {
   "cell_type": "markdown",
   "metadata": {},
   "source": [
    "# Ranking the sensors"
   ]
  },
  {
   "cell_type": "markdown",
   "metadata": {},
   "source": [
    "Calculating the error for each sensor and calculating the matrics for each sensor"
   ]
  },
  {
   "cell_type": "code",
   "execution_count": 7,
   "metadata": {},
   "outputs": [
    {
     "data": {
      "text/html": [
       "<div>\n",
       "<style scoped>\n",
       "    .dataframe tbody tr th:only-of-type {\n",
       "        vertical-align: middle;\n",
       "    }\n",
       "\n",
       "    .dataframe tbody tr th {\n",
       "        vertical-align: top;\n",
       "    }\n",
       "\n",
       "    .dataframe thead th {\n",
       "        text-align: right;\n",
       "    }\n",
       "</style>\n",
       "<table border=\"1\" class=\"dataframe\">\n",
       "  <thead>\n",
       "    <tr style=\"text-align: right;\">\n",
       "      <th></th>\n",
       "      <th>MAE</th>\n",
       "      <th>MSE</th>\n",
       "      <th>Variance</th>\n",
       "    </tr>\n",
       "  </thead>\n",
       "  <tbody>\n",
       "    <tr>\n",
       "      <th>Sensor 1</th>\n",
       "      <td>0.203822</td>\n",
       "      <td>0.078307</td>\n",
       "      <td>0.078304</td>\n",
       "    </tr>\n",
       "    <tr>\n",
       "      <th>Sensor 2</th>\n",
       "      <td>0.205767</td>\n",
       "      <td>0.078114</td>\n",
       "      <td>0.078114</td>\n",
       "    </tr>\n",
       "    <tr>\n",
       "      <th>Sensor 3</th>\n",
       "      <td>0.209327</td>\n",
       "      <td>0.078888</td>\n",
       "      <td>0.078831</td>\n",
       "    </tr>\n",
       "  </tbody>\n",
       "</table>\n",
       "</div>"
      ],
      "text/plain": [
       "               MAE       MSE  Variance\n",
       "Sensor 1  0.203822  0.078307  0.078304\n",
       "Sensor 2  0.205767  0.078114  0.078114\n",
       "Sensor 3  0.209327  0.078888  0.078831"
      ]
     },
     "execution_count": 7,
     "metadata": {},
     "output_type": "execute_result"
    }
   ],
   "source": [
    "# Extract sensor readings and real values\n",
    "sensors= [\"Sensor 1\", \"Sensor 2\", \"Sensor 3\"]\n",
    "real_values= df[\"Real data\"]\n",
    "\n",
    "# Compute errors for each sensor\n",
    "errors= {sensor : df[sensor] - real_values for sensor in sensors}\n",
    "\n",
    "# Calculate error metrics\n",
    "error_metrics= {\n",
    "    sensor : {\n",
    "        \"MAE\" : np.mean(np.abs(errors[sensor])),\n",
    "        \"MSE\" : np.mean(errors[sensor] ** 2),\n",
    "        \"Variance\" : np.var(errors[sensor])\n",
    "    }\n",
    "    for sensor in sensors\n",
    "}\n",
    "\n",
    "# Convert to DataFrame for better readability\n",
    "error_df= pd.DataFrame(error_metrics).T\n",
    "\n",
    "error_df"
   ]
  },
  {
   "cell_type": "markdown",
   "metadata": {},
   "source": [
    "Based on the matric and error_df, it seams that the ordering from 1 to 3 is the best ordering, so we don't change it"
   ]
  },
  {
   "cell_type": "code",
   "execution_count": 8,
   "metadata": {},
   "outputs": [
    {
     "data": {
      "text/html": [
       "<div>\n",
       "<style scoped>\n",
       "    .dataframe tbody tr th:only-of-type {\n",
       "        vertical-align: middle;\n",
       "    }\n",
       "\n",
       "    .dataframe tbody tr th {\n",
       "        vertical-align: top;\n",
       "    }\n",
       "\n",
       "    .dataframe thead th {\n",
       "        text-align: right;\n",
       "    }\n",
       "</style>\n",
       "<table border=\"1\" class=\"dataframe\">\n",
       "  <thead>\n",
       "    <tr style=\"text-align: right;\">\n",
       "      <th></th>\n",
       "      <th>MAE</th>\n",
       "      <th>MSE</th>\n",
       "      <th>Variance</th>\n",
       "    </tr>\n",
       "  </thead>\n",
       "  <tbody>\n",
       "    <tr>\n",
       "      <th>Sensor 1</th>\n",
       "      <td>0.203822</td>\n",
       "      <td>0.078307</td>\n",
       "      <td>0.078304</td>\n",
       "    </tr>\n",
       "    <tr>\n",
       "      <th>Sensor 2</th>\n",
       "      <td>0.205767</td>\n",
       "      <td>0.078114</td>\n",
       "      <td>0.078114</td>\n",
       "    </tr>\n",
       "    <tr>\n",
       "      <th>Sensor 3</th>\n",
       "      <td>0.209327</td>\n",
       "      <td>0.078888</td>\n",
       "      <td>0.078831</td>\n",
       "    </tr>\n",
       "  </tbody>\n",
       "</table>\n",
       "</div>"
      ],
      "text/plain": [
       "               MAE       MSE  Variance\n",
       "Sensor 1  0.203822  0.078307  0.078304\n",
       "Sensor 2  0.205767  0.078114  0.078114\n",
       "Sensor 3  0.209327  0.078888  0.078831"
      ]
     },
     "execution_count": 8,
     "metadata": {},
     "output_type": "execute_result"
    }
   ],
   "source": [
    "error_df"
   ]
  },
  {
   "cell_type": "markdown",
   "metadata": {},
   "source": [
    "# OWA"
   ]
  },
  {
   "cell_type": "markdown",
   "metadata": {},
   "source": [
    "Optimistic & pesimistic"
   ]
  },
  {
   "cell_type": "code",
   "execution_count": 9,
   "metadata": {},
   "outputs": [
    {
     "data": {
      "text/html": [
       "<div>\n",
       "<style scoped>\n",
       "    .dataframe tbody tr th:only-of-type {\n",
       "        vertical-align: middle;\n",
       "    }\n",
       "\n",
       "    .dataframe tbody tr th {\n",
       "        vertical-align: top;\n",
       "    }\n",
       "\n",
       "    .dataframe thead th {\n",
       "        text-align: right;\n",
       "    }\n",
       "</style>\n",
       "<table border=\"1\" class=\"dataframe\">\n",
       "  <thead>\n",
       "    <tr style=\"text-align: right;\">\n",
       "      <th></th>\n",
       "      <th>Sensor 1</th>\n",
       "      <th>Sensor 2</th>\n",
       "      <th>Sensor 3</th>\n",
       "      <th>Real data</th>\n",
       "      <th>OWA_Optimistic</th>\n",
       "      <th>OWA_Pessimistic</th>\n",
       "    </tr>\n",
       "  </thead>\n",
       "  <tbody>\n",
       "    <tr>\n",
       "      <th>0</th>\n",
       "      <td>1.290892</td>\n",
       "      <td>1.233738</td>\n",
       "      <td>0.804856</td>\n",
       "      <td>1.20000</td>\n",
       "      <td>1.290892</td>\n",
       "      <td>0.804856</td>\n",
       "    </tr>\n",
       "    <tr>\n",
       "      <th>1</th>\n",
       "      <td>1.258611</td>\n",
       "      <td>0.693333</td>\n",
       "      <td>1.345625</td>\n",
       "      <td>1.08000</td>\n",
       "      <td>1.258611</td>\n",
       "      <td>1.345625</td>\n",
       "    </tr>\n",
       "    <tr>\n",
       "      <th>2</th>\n",
       "      <td>0.885958</td>\n",
       "      <td>0.924730</td>\n",
       "      <td>0.924650</td>\n",
       "      <td>0.97200</td>\n",
       "      <td>0.885958</td>\n",
       "      <td>0.924650</td>\n",
       "    </tr>\n",
       "    <tr>\n",
       "      <th>3</th>\n",
       "      <td>1.289685</td>\n",
       "      <td>1.244266</td>\n",
       "      <td>0.971379</td>\n",
       "      <td>0.87480</td>\n",
       "      <td>1.289685</td>\n",
       "      <td>0.971379</td>\n",
       "    </tr>\n",
       "    <tr>\n",
       "      <th>4</th>\n",
       "      <td>0.862174</td>\n",
       "      <td>0.822418</td>\n",
       "      <td>0.761150</td>\n",
       "      <td>0.78732</td>\n",
       "      <td>0.862174</td>\n",
       "      <td>0.761150</td>\n",
       "    </tr>\n",
       "  </tbody>\n",
       "</table>\n",
       "</div>"
      ],
      "text/plain": [
       "   Sensor 1  Sensor 2  Sensor 3  Real data  OWA_Optimistic  OWA_Pessimistic\n",
       "0  1.290892  1.233738  0.804856    1.20000        1.290892         0.804856\n",
       "1  1.258611  0.693333  1.345625    1.08000        1.258611         1.345625\n",
       "2  0.885958  0.924730  0.924650    0.97200        0.885958         0.924650\n",
       "3  1.289685  1.244266  0.971379    0.87480        1.289685         0.971379\n",
       "4  0.862174  0.822418  0.761150    0.78732        0.862174         0.761150"
      ]
     },
     "execution_count": 9,
     "metadata": {},
     "output_type": "execute_result"
    }
   ],
   "source": [
    "# Define OWA weight methods\n",
    "def get_owa_weights(method):\n",
    "    if method == \"Optimistic\":\n",
    "        return np.array([1, 0, 0])\n",
    "    elif method == \"Pessimistic\":\n",
    "        return np.array([0, 0, 1])\n",
    "    else:\n",
    "        raise ValueError(\"Unknown method\")\n",
    "\n",
    "# Function to compute OWA output\n",
    "def compute_owa(df, method):\n",
    "    weights= get_owa_weights(method)\n",
    "    owa_values= []\n",
    "\n",
    "    for _, row in df[sensors].iterrows():\n",
    "        owa_result= np.dot(weights, row)\n",
    "        owa_values.append(owa_result)\n",
    "    \n",
    "    return np.array(owa_values)\n",
    "\n",
    "# Apply OWA for each method\n",
    "owa_results= {}\n",
    "for method in [\"Optimistic\", \"Pessimistic\"]:\n",
    "    owa_results[method]= compute_owa(df, method)\n",
    "\n",
    "# Add OWA results to DataFrame\n",
    "for method in owa_results:\n",
    "    df[f\"OWA_{method}\"]= owa_results[method]\n",
    "\n",
    "df.head()"
   ]
  },
  {
   "cell_type": "markdown",
   "metadata": {},
   "source": [
    "Calculating matrics for OWA outputs"
   ]
  },
  {
   "cell_type": "code",
   "execution_count": 10,
   "metadata": {},
   "outputs": [
    {
     "data": {
      "text/html": [
       "<div>\n",
       "<style scoped>\n",
       "    .dataframe tbody tr th:only-of-type {\n",
       "        vertical-align: middle;\n",
       "    }\n",
       "\n",
       "    .dataframe tbody tr th {\n",
       "        vertical-align: top;\n",
       "    }\n",
       "\n",
       "    .dataframe thead th {\n",
       "        text-align: right;\n",
       "    }\n",
       "</style>\n",
       "<table border=\"1\" class=\"dataframe\">\n",
       "  <thead>\n",
       "    <tr style=\"text-align: right;\">\n",
       "      <th></th>\n",
       "      <th>MAE</th>\n",
       "      <th>MSE</th>\n",
       "    </tr>\n",
       "  </thead>\n",
       "  <tbody>\n",
       "    <tr>\n",
       "      <th>Optimistic</th>\n",
       "      <td>0.203822</td>\n",
       "      <td>0.078307</td>\n",
       "    </tr>\n",
       "    <tr>\n",
       "      <th>Pessimistic</th>\n",
       "      <td>0.209327</td>\n",
       "      <td>0.078888</td>\n",
       "    </tr>\n",
       "  </tbody>\n",
       "</table>\n",
       "</div>"
      ],
      "text/plain": [
       "                  MAE       MSE\n",
       "Optimistic   0.203822  0.078307\n",
       "Pessimistic  0.209327  0.078888"
      ]
     },
     "execution_count": 10,
     "metadata": {},
     "output_type": "execute_result"
    }
   ],
   "source": [
    "# Compute MAE and MSE for each OWA method\n",
    "owa_errors= {}\n",
    "for method in [\"Optimistic\", \"Pessimistic\"]:\n",
    "    mae= np.mean(np.abs(df[f\"OWA_{method}\"] - df[\"Real data\"]))\n",
    "    mse= np.mean((df[f\"OWA_{method}\"] - df[\"Real data\"]) ** 2)\n",
    "    owa_errors[method] = {\"MAE\" : mae, \"MSE\" : mse}\n",
    "\n",
    "# Convert results to a DataFrame\n",
    "owa_error_df= pd.DataFrame(owa_errors).T\n",
    "\n",
    "owa_error_df"
   ]
  },
  {
   "cell_type": "markdown",
   "metadata": {},
   "source": [
    "Calculating Orness & Dispersion"
   ]
  },
  {
   "cell_type": "code",
   "execution_count": 11,
   "metadata": {},
   "outputs": [
    {
     "data": {
      "text/html": [
       "<div>\n",
       "<style scoped>\n",
       "    .dataframe tbody tr th:only-of-type {\n",
       "        vertical-align: middle;\n",
       "    }\n",
       "\n",
       "    .dataframe tbody tr th {\n",
       "        vertical-align: top;\n",
       "    }\n",
       "\n",
       "    .dataframe thead th {\n",
       "        text-align: right;\n",
       "    }\n",
       "</style>\n",
       "<table border=\"1\" class=\"dataframe\">\n",
       "  <thead>\n",
       "    <tr style=\"text-align: right;\">\n",
       "      <th></th>\n",
       "      <th>Orness</th>\n",
       "      <th>Dispersion</th>\n",
       "    </tr>\n",
       "  </thead>\n",
       "  <tbody>\n",
       "    <tr>\n",
       "      <th>Optimistic</th>\n",
       "      <td>1.0</td>\n",
       "      <td>-0.0</td>\n",
       "    </tr>\n",
       "    <tr>\n",
       "      <th>Pessimistic</th>\n",
       "      <td>0.0</td>\n",
       "      <td>-0.0</td>\n",
       "    </tr>\n",
       "  </tbody>\n",
       "</table>\n",
       "</div>"
      ],
      "text/plain": [
       "             Orness  Dispersion\n",
       "Optimistic      1.0        -0.0\n",
       "Pessimistic     0.0        -0.0"
      ]
     },
     "execution_count": 11,
     "metadata": {},
     "output_type": "execute_result"
    }
   ],
   "source": [
    "def compute_orness(weights):\n",
    "    n= len(weights)\n",
    "    return np.sum([(n - i) * weights[i - 1] for i in range(1, n + 1)]) / (n - 1)\n",
    "\n",
    "def compute_dispersion(weights):\n",
    "    return -np.sum([w * np.log(w) if w != 0 else 0 for w in weights])  # Avoid log(0)\n",
    "\n",
    "# Compute for each method\n",
    "owa_properties= {}\n",
    "for method in [\"Optimistic\", \"Pessimistic\"]:\n",
    "    weights= get_owa_weights(method)\n",
    "    orness= compute_orness(weights)\n",
    "    dispersion= compute_dispersion(weights)\n",
    "    owa_properties[method]= {\"Orness\" : orness, \"Dispersion\" : dispersion}\n",
    "\n",
    "# Convert to DataFrame\n",
    "owa_properties_df= pd.DataFrame(owa_properties).T\n",
    "\n",
    "owa_properties_df"
   ]
  },
  {
   "cell_type": "markdown",
   "metadata": {},
   "source": [
    "Learning method"
   ]
  },
  {
   "cell_type": "code",
   "execution_count": 12,
   "metadata": {},
   "outputs": [
    {
     "name": "stdout",
     "output_type": "stream",
     "text": [
      "Learned OWA Weights: [0.0786207  0.69268036 0.22869894]\n",
      "First few OWA Results: [1.14014677 0.88695407 0.92166362 1.18542801 0.81153184]\n"
     ]
    },
    {
     "data": {
      "text/html": [
       "<div>\n",
       "<style scoped>\n",
       "    .dataframe tbody tr th:only-of-type {\n",
       "        vertical-align: middle;\n",
       "    }\n",
       "\n",
       "    .dataframe tbody tr th {\n",
       "        vertical-align: top;\n",
       "    }\n",
       "\n",
       "    .dataframe thead th {\n",
       "        text-align: right;\n",
       "    }\n",
       "</style>\n",
       "<table border=\"1\" class=\"dataframe\">\n",
       "  <thead>\n",
       "    <tr style=\"text-align: right;\">\n",
       "      <th></th>\n",
       "      <th>Sensor 1</th>\n",
       "      <th>Sensor 2</th>\n",
       "      <th>Sensor 3</th>\n",
       "      <th>Real data</th>\n",
       "      <th>OWA_Optimistic</th>\n",
       "      <th>OWA_Pessimistic</th>\n",
       "      <th>OWA_Learning</th>\n",
       "    </tr>\n",
       "  </thead>\n",
       "  <tbody>\n",
       "    <tr>\n",
       "      <th>0</th>\n",
       "      <td>1.290892</td>\n",
       "      <td>1.233738</td>\n",
       "      <td>0.804856</td>\n",
       "      <td>1.20000</td>\n",
       "      <td>1.290892</td>\n",
       "      <td>0.804856</td>\n",
       "      <td>1.140147</td>\n",
       "    </tr>\n",
       "    <tr>\n",
       "      <th>1</th>\n",
       "      <td>1.258611</td>\n",
       "      <td>0.693333</td>\n",
       "      <td>1.345625</td>\n",
       "      <td>1.08000</td>\n",
       "      <td>1.258611</td>\n",
       "      <td>1.345625</td>\n",
       "      <td>0.886954</td>\n",
       "    </tr>\n",
       "    <tr>\n",
       "      <th>2</th>\n",
       "      <td>0.885958</td>\n",
       "      <td>0.924730</td>\n",
       "      <td>0.924650</td>\n",
       "      <td>0.97200</td>\n",
       "      <td>0.885958</td>\n",
       "      <td>0.924650</td>\n",
       "      <td>0.921664</td>\n",
       "    </tr>\n",
       "    <tr>\n",
       "      <th>3</th>\n",
       "      <td>1.289685</td>\n",
       "      <td>1.244266</td>\n",
       "      <td>0.971379</td>\n",
       "      <td>0.87480</td>\n",
       "      <td>1.289685</td>\n",
       "      <td>0.971379</td>\n",
       "      <td>1.185428</td>\n",
       "    </tr>\n",
       "    <tr>\n",
       "      <th>4</th>\n",
       "      <td>0.862174</td>\n",
       "      <td>0.822418</td>\n",
       "      <td>0.761150</td>\n",
       "      <td>0.78732</td>\n",
       "      <td>0.862174</td>\n",
       "      <td>0.761150</td>\n",
       "      <td>0.811532</td>\n",
       "    </tr>\n",
       "  </tbody>\n",
       "</table>\n",
       "</div>"
      ],
      "text/plain": [
       "   Sensor 1  Sensor 2  Sensor 3  Real data  OWA_Optimistic  OWA_Pessimistic  \\\n",
       "0  1.290892  1.233738  0.804856    1.20000        1.290892         0.804856   \n",
       "1  1.258611  0.693333  1.345625    1.08000        1.258611         1.345625   \n",
       "2  0.885958  0.924730  0.924650    0.97200        0.885958         0.924650   \n",
       "3  1.289685  1.244266  0.971379    0.87480        1.289685         0.971379   \n",
       "4  0.862174  0.822418  0.761150    0.78732        0.862174         0.761150   \n",
       "\n",
       "   OWA_Learning  \n",
       "0      1.140147  \n",
       "1      0.886954  \n",
       "2      0.921664  \n",
       "3      1.185428  \n",
       "4      0.811532  "
      ]
     },
     "execution_count": 12,
     "metadata": {},
     "output_type": "execute_result"
    }
   ],
   "source": [
    "# initialize OWA weights randomly and normalize them\n",
    "n= len(sensors)\n",
    "np.random.seed(48)\n",
    "weights= np.random.rand(n)\n",
    "weights /= np.sum(weights)  # Normalize to sum to 1\n",
    "\n",
    "# Learning parameters\n",
    "learning_rate= 0.01\n",
    "epochs= 1000\n",
    "\n",
    "# Gradient Descent Optimization\n",
    "for epoch in range(epochs):\n",
    "    # Compute OWA output with current weights\n",
    "    owa_output= np.dot(df[sensors], weights)\n",
    "\n",
    "    # Compute error\n",
    "    error= real_values - owa_output\n",
    "    gradient= -2 * np.dot(df[sensors].T, error) / len(real_values)\n",
    "\n",
    "    # Update weights\n",
    "    weights -= learning_rate * gradient\n",
    "    weights= np.maximum(weights, 0)  # Ensure non-negative\n",
    "    weights /= np.sum(weights)  # Normalize\n",
    "\n",
    "# Step 4: Apply OWA with learned weights\n",
    "owa_result= np.dot(df[sensors], weights)\n",
    "\n",
    "# Display final learned weights and first few results\n",
    "print(\"Learned OWA Weights:\", weights)\n",
    "print(\"First few OWA Results:\", owa_result[ : 5])\n",
    "\n",
    "df['OWA_Learning']= owa_result\n",
    "df.head()"
   ]
  },
  {
   "cell_type": "markdown",
   "metadata": {},
   "source": [
    "Calculating matrics and Orness and Dispersion for Learning method"
   ]
  },
  {
   "cell_type": "code",
   "execution_count": 13,
   "metadata": {},
   "outputs": [
    {
     "name": "stdout",
     "output_type": "stream",
     "text": [
      "MAE of OWA: 0.1552\n",
      "MSE of OWA: 0.0426\n",
      "Orness: 0.4250\n",
      "Dispersion: 0.7917\n"
     ]
    }
   ],
   "source": [
    "# Compute MAE & MSE\n",
    "mae_owa= np.mean(np.abs(owa_result - real_values))\n",
    "mse_owa= np.mean((owa_result - real_values) ** 2)\n",
    "\n",
    "# Compute Orness\n",
    "def compute_orness(weights):\n",
    "    n= len(weights)\n",
    "    return np.sum([(n - i) * weights[i - 1] for i in range(1, n + 1)]) / (n - 1)\n",
    "\n",
    "# Compute Dispersion\n",
    "def compute_dispersion(weights):\n",
    "    return -np.sum([w * np.log(w) if w > 0 else 0 for w in weights])  # Avoid log(0)\n",
    "\n",
    "orness= compute_orness(weights)\n",
    "dispersion= compute_dispersion(weights)\n",
    "\n",
    "# Display results\n",
    "print(f\"MAE of OWA: {mae_owa:.4f}\")\n",
    "print(f\"MSE of OWA: {mse_owa:.4f}\")\n",
    "print(f\"Orness: {orness:.4f}\")\n",
    "print(f\"Dispersion: {dispersion:.4f}\")"
   ]
  }
 ],
 "metadata": {
  "kernelspec": {
   "display_name": "Qvenv",
   "language": "python",
   "name": "qvenv"
  },
  "language_info": {
   "codemirror_mode": {
    "name": "ipython",
    "version": 3
   },
   "file_extension": ".py",
   "mimetype": "text/x-python",
   "name": "python",
   "nbconvert_exporter": "python",
   "pygments_lexer": "ipython3",
   "version": "3.10.0"
  }
 },
 "nbformat": 4,
 "nbformat_minor": 2
}
